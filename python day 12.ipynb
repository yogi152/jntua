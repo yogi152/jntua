{
 "cells": [
  {
   "cell_type": "code",
   "execution_count": 10,
   "metadata": {},
   "outputs": [
    {
     "name": "stdout",
     "output_type": "stream",
     "text": [
      "my name\n",
      "my name is yogeswar\n",
      "my name is\n",
      "my name is yogeswar\n",
      "m\n",
      "r\n",
      "y name is yogesw\n",
      "\n"
     ]
    }
   ],
   "source": [
    "a=\"my name is yogeswar\"\n",
    "print(a[0:7])\n",
    "print(a[:])\n",
    "print(a[0:10])\n",
    "print(a[0:])\n",
    "print(a[0])\n",
    "print(a[18])\n",
    "print(a[1:17])"
   ]
  },
  {
   "cell_type": "code",
   "execution_count": 26,
   "metadata": {},
   "outputs": [
    {
     "name": "stdout",
     "output_type": "stream",
     "text": [
      "19\n",
      "my name is yogeswar\n",
      "s\n",
      "rawsegoy si eman ym\n",
      "m aei oewr\n",
      "r\n",
      "a\n",
      "y name is yogeswa\n"
     ]
    }
   ],
   "source": [
    "a=\"my name is yogeswar\"\n",
    "#print lenght of string\n",
    "print(len(a))\n",
    "#print all the string\n",
    "print(a[0:19])\n",
    "#access the middle term\n",
    "print(a[len(a)//2])\n",
    "#reverse the string\n",
    "print(a[::-1])\n",
    "#alternate terms\n",
    "print(a[::2])\n",
    "#access the last term\n",
    "print(a[-1])\n",
    "#acess the second last term\n",
    "print(a[-2])\n",
    "#print all terms except first and last term\n",
    "print(a[1:-1])"
   ]
  },
  {
   "cell_type": "code",
   "execution_count": 34,
   "metadata": {},
   "outputs": [
    {
     "name": "stdout",
     "output_type": "stream",
     "text": [
      "python is a programming language\n",
      "PYTHON IS A PROGRAMMING LANGUAGE\n",
      "P.y.t.h.o.N. .i.s. .a. .P.r.o.g.r.a.M.m.i.n.g. .l.a.n.g.u.a.g.e\n",
      "['PythoN', 'is', 'a', 'PrograMming', 'language']\n",
      "sythoN is a srograMming language\n"
     ]
    }
   ],
   "source": [
    "a=\"PythoN is a PrograMming language\"\n",
    "#print in lower casing\n",
    "print(a.lower())\n",
    "#print in upper casing\n",
    "print(a.upper())\n",
    "#join\n",
    "print(\".\".join(a))\n",
    "#split\n",
    "print(a.split())\n",
    "#replace\n",
    "print(a.replace(\"P\",\"s\"))"
   ]
  },
  {
   "cell_type": "code",
   "execution_count": 41,
   "metadata": {},
   "outputs": [
    {
     "name": "stdout",
     "output_type": "stream",
     "text": [
      "[1, 2, 4, 56, 85, 95, 75]\n",
      "85\n",
      "7\n",
      "None\n",
      "[1, 2, 4, 56, 85, 95, 75, 45]\n",
      "[1, 2, 4, 56, 85, 95, 75, 45]\n"
     ]
    }
   ],
   "source": [
    "#list\n",
    "a=[1,2,4,56,85,95,75]\n",
    "print(a)\n",
    "print(a[4])\n",
    "print(len(a))\n",
    "print(a.insert(100,45))\n",
    "print(a)\n",
    "print(a[:])"
   ]
  },
  {
   "cell_type": "code",
   "execution_count": 50,
   "metadata": {},
   "outputs": [
    {
     "name": "stdout",
     "output_type": "stream",
     "text": [
      "(1, 0, 5, 7, 8, 10)\n",
      "6\n",
      "8\n",
      "(1, 0, 5, 7, 8, 10)\n",
      "10\n",
      "(1, 0, 5, 7, 8)\n",
      "(0, 5, 7, 8)\n"
     ]
    }
   ],
   "source": [
    "#tuple\n",
    "a=(1,0,5,7,8,10)\n",
    "print(a)\n",
    "print(len(a))\n",
    "print(a[4])\n",
    "print(a[0:6])\n",
    "print(a[-1])\n",
    "print(a[0:-1])\n",
    "print(a[1:-1])"
   ]
  },
  {
   "cell_type": "code",
   "execution_count": 52,
   "metadata": {},
   "outputs": [
    {
     "name": "stdout",
     "output_type": "stream",
     "text": [
      "{1: 'a', 2: 'r', 3: 't', 4: 'e'}\n",
      "t\n"
     ]
    }
   ],
   "source": [
    "#dictionary\n",
    "a={1:\"a\",2:\"r\",3:\"t\",4:\"e\"}\n",
    "print(a)\n",
    "print(a[3])"
   ]
  },
  {
   "cell_type": "code",
   "execution_count": 53,
   "metadata": {},
   "outputs": [
    {
     "name": "stdout",
     "output_type": "stream",
     "text": [
      "hello@john!!\n"
     ]
    }
   ],
   "source": [
    "str='Hello@John!!'\n",
    "print(str.lower())\n"
   ]
  },
  {
   "cell_type": "code",
   "execution_count": 56,
   "metadata": {},
   "outputs": [
    {
     "name": "stdout",
     "output_type": "stream",
     "text": [
      "12454\n"
     ]
    }
   ],
   "source": [
    "list1= [2445,133,12454,123]\n",
    "print(max(list1))"
   ]
  },
  {
   "cell_type": "code",
   "execution_count": null,
   "metadata": {},
   "outputs": [],
   "source": []
  }
 ],
 "metadata": {
  "kernelspec": {
   "display_name": "Python 3",
   "language": "python",
   "name": "python3"
  },
  "language_info": {
   "codemirror_mode": {
    "name": "ipython",
    "version": 3
   },
   "file_extension": ".py",
   "mimetype": "text/x-python",
   "name": "python",
   "nbconvert_exporter": "python",
   "pygments_lexer": "ipython3",
   "version": "3.7.3"
  }
 },
 "nbformat": 4,
 "nbformat_minor": 2
}
